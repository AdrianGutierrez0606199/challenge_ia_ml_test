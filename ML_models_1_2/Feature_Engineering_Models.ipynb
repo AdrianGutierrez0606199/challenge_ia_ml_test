{
 "cells": [
  {
   "cell_type": "markdown",
   "id": "34096469",
   "metadata": {},
   "source": [
    "# PRUEBA DE CARGO PARA LÍDER DE LÍNEA DE CONOCIMIENTO EN IA\n",
    "\n",
    "### Ingeniería de características sobre las variables preprocesadas en las instancias anteriores\n",
    "\n",
    "En esta etapa se generarán las variables que serán utilizadas para el entrenamiento de los tres modelos solicitados en la prueba, cuyo objetivo es predecir la variable \"Annual Turnover\"."
   ]
  },
  {
   "cell_type": "code",
   "execution_count": 93,
   "id": "4887ded3",
   "metadata": {},
   "outputs": [],
   "source": [
    "# import modules for the current script\n",
    "import pandas as pd\n",
    "import os\n",
    "import json\n",
    "import numpy as np\n",
    "import warnings\n",
    "\n",
    "warnings.filterwarnings('ignore')\n",
    "\n",
    "pd.set_option('display.max_columns', None)"
   ]
  },
  {
   "cell_type": "code",
   "execution_count": 94,
   "id": "f42ee5d1",
   "metadata": {},
   "outputs": [],
   "source": [
    "#############################################\n",
    "###### Parameters for the execution #########\n",
    "#############################################\n",
    "\n",
    "# Get the absolute path to the directory where the script is located\n",
    "script_dir = os.getcwd()\n",
    "script_dir = script_dir.replace('\\\\','/')\n",
    "\n",
    "anal_data_path = f\"{script_dir}/../data/analitycs/preprocessed_dataset/restaurants_dataset.parquet\"\n",
    "type_vars_path = f\"{script_dir}/../data/analitycs/preprocessed_dataset/type_vars.json\""
   ]
  },
  {
   "cell_type": "code",
   "execution_count": 95,
   "id": "19865762",
   "metadata": {},
   "outputs": [],
   "source": [
    "# Load the data and type variables\n",
    "analy_data = pd.read_parquet(anal_data_path)\n",
    "with open(type_vars_path, 'r') as file: \n",
    "    type_vars = json.load(file)\n",
    "\n",
    "cat_vars = type_vars.get('categorical',[])\n",
    "num_vars = type_vars.get('numerical',[])\n",
    "binary_vars = type_vars.get('binary',[])\n",
    "id_vars = type_vars.get('id_vars',[])\n",
    "date_var = type_vars.get('date',[])\n",
    "target_var = \"Annual Turnover\"\n",
    "\n",
    "# the backup variable is used given the fact that the target variable was treated to remove outliers\n",
    "# and we want to keep the original target variable for reference and test the model\n",
    "test_target_var = \"Annual Turnover backup\""
   ]
  },
  {
   "cell_type": "code",
   "execution_count": 96,
   "id": "4cd6b55e",
   "metadata": {},
   "outputs": [],
   "source": [
    "# rename the columns to avoid spaces and uppercase letters\n",
    "analy_data.columns = [col.replace(' ', '_').lower() for col in analy_data.columns]\n",
    "\n",
    "# remove the spaces and uppercase letters from all the variables types\n",
    "cat_vars = [var.replace(' ', '_').lower() for var in cat_vars]\n",
    "num_vars = [var.replace(' ', '_').lower() for var in num_vars]\n",
    "binary_vars = [var.replace(' ', '_').lower() for var in binary_vars]\n",
    "id_vars = [var.replace(' ', '_').lower() for var in id_vars]\n",
    "date_var = [var.replace(' ', '_').lower() for var in date_var]\n",
    "target_var = target_var.replace(' ', '_').lower()\n",
    "test_target_var = test_target_var.replace(' ', '_').lower()"
   ]
  },
  {
   "cell_type": "code",
   "execution_count": 97,
   "id": "71d8e55a",
   "metadata": {},
   "outputs": [
    {
     "data": {
      "text/plain": [
       "registration_number              0\n",
       "cuisine                          0\n",
       "city                             0\n",
       "endorsed_by                      0\n",
       "restaurant_type                  0\n",
       "restaurant_location              0\n",
       "restaurant_theme_mod             0\n",
       "overall_restaurant_rating        0\n",
       "food_rating                      0\n",
       "restaurant_zomato_rating         0\n",
       "value_for_money                  0\n",
       "live_music_rating                0\n",
       "staff_responsivness              0\n",
       "hygiene_rating                   0\n",
       "order_wait_time                  0\n",
       "privacy                          0\n",
       "ambience                         0\n",
       "lively                           0\n",
       "service                          0\n",
       "comfortablility                  0\n",
       "annual_turnover                  0\n",
       "instagram_popularity_quotient    0\n",
       "facebook_popularity_quotient     0\n",
       "days_since_open                  0\n",
       "liquor_license_obtained          0\n",
       "situated_in_a_multi_complex      0\n",
       "open_sitting_available           0\n",
       "resturant_tier                   0\n",
       "fire_audit                       0\n",
       "dedicated_parking                0\n",
       "has_live_sports                  0\n",
       "restaurant_city_tier             0\n",
       "annual_turnover_backup           0\n",
       "has_comedy_gigs_rating           0\n",
       "has_value_deals_rating           0\n",
       "dtype: int64"
      ]
     },
     "execution_count": 97,
     "metadata": {},
     "output_type": "execute_result"
    }
   ],
   "source": [
    "# first, we will replace the null values depending on the type of variable\n",
    "input_threshold = 0.25\n",
    "\n",
    "# even though we saw in the preprocessing that there are no null values in the target variable, we correct in case it is needed\n",
    "# given the target value cannot be empty we would drop the rows with null values in the target variable\n",
    "analy_data = analy_data.dropna(subset=[target_var])\n",
    "analy_data = analy_data.dropna(subset=[test_target_var])\n",
    "analy_data = analy_data.dropna(subset=id_vars)\n",
    "\n",
    "for col in cat_vars:\n",
    "    if int(analy_data[col].isnull().sum()) > 0:\n",
    "        if analy_data[col].isnull().sum() / len(analy_data) < input_threshold:\n",
    "            analy_data[col].fillna(analy_data[col][~(analy_data[col].isna())].mode()[0], inplace=True)\n",
    "        else:\n",
    "            analy_data[f\"has_{col}\"] = [0 if i else 1 for i in analy_data[col].isna()]\n",
    "            analy_data.drop(columns=[col], inplace=True)\n",
    "            cat_vars.remove(col)\n",
    "            binary_vars.append(f\"has_{col}\")\n",
    "\n",
    "\n",
    "for col in binary_vars:\n",
    "    analy_data[col] = analy_data[col].fillna(0)\n",
    "\n",
    "for col in num_vars + date_var:\n",
    "    if int(analy_data[col].isnull().sum()) > 0:\n",
    "        if analy_data[col].isnull().sum() / len(analy_data) < input_threshold:\n",
    "            if analy_data[col].dtype == 'Int64':\n",
    "                analy_data[col].fillna(analy_data[col][~(analy_data[col].isna())].mode()[0], inplace=True)\n",
    "            else:\n",
    "                analy_data[col].fillna(analy_data[col][~(analy_data[col].isna())].mean(), inplace=True)\n",
    "        else:\n",
    "            analy_data[f\"has_{col}\"] = [0 if i else 1 for i in analy_data[col].isna()]\n",
    "            analy_data.drop(columns=[col], inplace=True)\n",
    "            num_vars.remove(col)\n",
    "            binary_vars.append(f\"has_{col}\")\n",
    "\n",
    "# remove the target variable from the numerical variables\n",
    "num_vars.remove(target_var)\n",
    "num_vars.remove(test_target_var)\n",
    "\n",
    "## check if there are still null values in the dataset\n",
    "analy_data.isnull().sum().sort_values(ascending=False)"
   ]
  },
  {
   "cell_type": "markdown",
   "id": "48c92b85",
   "metadata": {},
   "source": [
    "Con el procesamiento anterior se eliminan o imputan todos los valores nulos de la tabla, lo que permite que los modelos tengan un mejor desempeño. Aunque algunos modelos pueden manejar valores nulos durante el entrenamiento, es necesario tratarlos para aplicar técnicas como PCA.\n",
    "\n",
    "Tras este procesamiento, se puede proceder con la ingeniería de características para crear variables que aporten valor a la predicción de la variable objetivo."
   ]
  },
  {
   "cell_type": "code",
   "execution_count": 98,
   "id": "025b3725",
   "metadata": {},
   "outputs": [
    {
     "data": {
      "text/html": [
       "<div>\n",
       "<style scoped>\n",
       "    .dataframe tbody tr th:only-of-type {\n",
       "        vertical-align: middle;\n",
       "    }\n",
       "\n",
       "    .dataframe tbody tr th {\n",
       "        vertical-align: top;\n",
       "    }\n",
       "\n",
       "    .dataframe thead th {\n",
       "        text-align: right;\n",
       "    }\n",
       "</style>\n",
       "<table border=\"1\" class=\"dataframe\">\n",
       "  <thead>\n",
       "    <tr style=\"text-align: right;\">\n",
       "      <th></th>\n",
       "      <th>index</th>\n",
       "      <th>annual_turnover</th>\n",
       "    </tr>\n",
       "  </thead>\n",
       "  <tbody>\n",
       "    <tr>\n",
       "      <th>0</th>\n",
       "      <td>annual_turnover</td>\n",
       "      <td>1.000000</td>\n",
       "    </tr>\n",
       "    <tr>\n",
       "      <th>1</th>\n",
       "      <td>hygiene_rating</td>\n",
       "      <td>0.312679</td>\n",
       "    </tr>\n",
       "    <tr>\n",
       "      <th>2</th>\n",
       "      <td>facebook_popularity_quotient</td>\n",
       "      <td>0.237419</td>\n",
       "    </tr>\n",
       "    <tr>\n",
       "      <th>3</th>\n",
       "      <td>instagram_popularity_quotient</td>\n",
       "      <td>0.231579</td>\n",
       "    </tr>\n",
       "    <tr>\n",
       "      <th>4</th>\n",
       "      <td>live_music_rating</td>\n",
       "      <td>0.220556</td>\n",
       "    </tr>\n",
       "    <tr>\n",
       "      <th>5</th>\n",
       "      <td>value_for_money</td>\n",
       "      <td>0.216392</td>\n",
       "    </tr>\n",
       "    <tr>\n",
       "      <th>6</th>\n",
       "      <td>staff_responsivness</td>\n",
       "      <td>0.209486</td>\n",
       "    </tr>\n",
       "    <tr>\n",
       "      <th>7</th>\n",
       "      <td>restaurant_zomato_rating</td>\n",
       "      <td>0.183914</td>\n",
       "    </tr>\n",
       "    <tr>\n",
       "      <th>8</th>\n",
       "      <td>overall_restaurant_rating</td>\n",
       "      <td>0.151079</td>\n",
       "    </tr>\n",
       "    <tr>\n",
       "      <th>9</th>\n",
       "      <td>lively</td>\n",
       "      <td>0.066535</td>\n",
       "    </tr>\n",
       "    <tr>\n",
       "      <th>10</th>\n",
       "      <td>order_wait_time</td>\n",
       "      <td>0.006263</td>\n",
       "    </tr>\n",
       "    <tr>\n",
       "      <th>11</th>\n",
       "      <td>food_rating</td>\n",
       "      <td>-0.005864</td>\n",
       "    </tr>\n",
       "    <tr>\n",
       "      <th>12</th>\n",
       "      <td>privacy</td>\n",
       "      <td>-0.016167</td>\n",
       "    </tr>\n",
       "    <tr>\n",
       "      <th>13</th>\n",
       "      <td>service</td>\n",
       "      <td>-0.023741</td>\n",
       "    </tr>\n",
       "    <tr>\n",
       "      <th>14</th>\n",
       "      <td>ambience</td>\n",
       "      <td>-0.053174</td>\n",
       "    </tr>\n",
       "    <tr>\n",
       "      <th>15</th>\n",
       "      <td>comfortablility</td>\n",
       "      <td>-0.077705</td>\n",
       "    </tr>\n",
       "  </tbody>\n",
       "</table>\n",
       "</div>"
      ],
      "text/plain": [
       "                            index  annual_turnover\n",
       "0                 annual_turnover         1.000000\n",
       "1                  hygiene_rating         0.312679\n",
       "2    facebook_popularity_quotient         0.237419\n",
       "3   instagram_popularity_quotient         0.231579\n",
       "4               live_music_rating         0.220556\n",
       "5                 value_for_money         0.216392\n",
       "6             staff_responsivness         0.209486\n",
       "7        restaurant_zomato_rating         0.183914\n",
       "8       overall_restaurant_rating         0.151079\n",
       "9                          lively         0.066535\n",
       "10                order_wait_time         0.006263\n",
       "11                    food_rating        -0.005864\n",
       "12                        privacy        -0.016167\n",
       "13                        service        -0.023741\n",
       "14                       ambience        -0.053174\n",
       "15                comfortablility        -0.077705"
      ]
     },
     "execution_count": 98,
     "metadata": {},
     "output_type": "execute_result"
    }
   ],
   "source": [
    "# list of correlation with the target variable for numerical variables\n",
    "corr_target = analy_data[num_vars + [target_var]].corr()[target_var].sort_values(ascending=False).reset_index()\n",
    "corr_target"
   ]
  },
  {
   "cell_type": "markdown",
   "id": "587d8c19",
   "metadata": {},
   "source": [
    "Es relevante observar que tanto el ambiente como la comodidad presentan una correlación negativa con el \"Annual Turnover\"."
   ]
  },
  {
   "cell_type": "code",
   "execution_count": 99,
   "id": "86a8d9de",
   "metadata": {},
   "outputs": [],
   "source": [
    "# list of numerical variables with correlation above |0.15|\n",
    "correlated_num_vars  = corr_target[abs(corr_target[target_var]) > 0.15]['index'].tolist()\n",
    "correlated_num_vars.remove(target_var)"
   ]
  },
  {
   "cell_type": "code",
   "execution_count": 100,
   "id": "0d69558c",
   "metadata": {},
   "outputs": [
    {
     "data": {
      "text/html": [
       "<div>\n",
       "<style scoped>\n",
       "    .dataframe tbody tr th:only-of-type {\n",
       "        vertical-align: middle;\n",
       "    }\n",
       "\n",
       "    .dataframe tbody tr th {\n",
       "        vertical-align: top;\n",
       "    }\n",
       "\n",
       "    .dataframe thead th {\n",
       "        text-align: right;\n",
       "    }\n",
       "</style>\n",
       "<table border=\"1\" class=\"dataframe\">\n",
       "  <thead>\n",
       "    <tr style=\"text-align: right;\">\n",
       "      <th></th>\n",
       "      <th>index</th>\n",
       "      <th>annual_turnover</th>\n",
       "    </tr>\n",
       "  </thead>\n",
       "  <tbody>\n",
       "    <tr>\n",
       "      <th>0</th>\n",
       "      <td>annual_turnover</td>\n",
       "      <td>1.000000</td>\n",
       "    </tr>\n",
       "    <tr>\n",
       "      <th>1</th>\n",
       "      <td>fire_audit</td>\n",
       "      <td>0.042826</td>\n",
       "    </tr>\n",
       "    <tr>\n",
       "      <th>2</th>\n",
       "      <td>dedicated_parking</td>\n",
       "      <td>0.030872</td>\n",
       "    </tr>\n",
       "    <tr>\n",
       "      <th>3</th>\n",
       "      <td>liquor_license_obtained</td>\n",
       "      <td>0.029702</td>\n",
       "    </tr>\n",
       "    <tr>\n",
       "      <th>4</th>\n",
       "      <td>restaurant_city_tier</td>\n",
       "      <td>0.026734</td>\n",
       "    </tr>\n",
       "    <tr>\n",
       "      <th>5</th>\n",
       "      <td>has_live_sports</td>\n",
       "      <td>0.019614</td>\n",
       "    </tr>\n",
       "    <tr>\n",
       "      <th>6</th>\n",
       "      <td>has_comedy_gigs_rating</td>\n",
       "      <td>-0.008030</td>\n",
       "    </tr>\n",
       "    <tr>\n",
       "      <th>7</th>\n",
       "      <td>open_sitting_available</td>\n",
       "      <td>-0.008122</td>\n",
       "    </tr>\n",
       "    <tr>\n",
       "      <th>8</th>\n",
       "      <td>situated_in_a_multi_complex</td>\n",
       "      <td>-0.037688</td>\n",
       "    </tr>\n",
       "    <tr>\n",
       "      <th>9</th>\n",
       "      <td>has_value_deals_rating</td>\n",
       "      <td>-0.140053</td>\n",
       "    </tr>\n",
       "    <tr>\n",
       "      <th>10</th>\n",
       "      <td>resturant_tier</td>\n",
       "      <td>-0.216509</td>\n",
       "    </tr>\n",
       "  </tbody>\n",
       "</table>\n",
       "</div>"
      ],
      "text/plain": [
       "                          index  annual_turnover\n",
       "0               annual_turnover         1.000000\n",
       "1                    fire_audit         0.042826\n",
       "2             dedicated_parking         0.030872\n",
       "3       liquor_license_obtained         0.029702\n",
       "4          restaurant_city_tier         0.026734\n",
       "5               has_live_sports         0.019614\n",
       "6        has_comedy_gigs_rating        -0.008030\n",
       "7        open_sitting_available        -0.008122\n",
       "8   situated_in_a_multi_complex        -0.037688\n",
       "9        has_value_deals_rating        -0.140053\n",
       "10               resturant_tier        -0.216509"
      ]
     },
     "execution_count": 100,
     "metadata": {},
     "output_type": "execute_result"
    }
   ],
   "source": [
    "# correlation of binary variables with the target variable\n",
    "corr_binary_target = analy_data[binary_vars + [target_var]].corr()[target_var].sort_values(ascending=False).reset_index()\n",
    "corr_binary_target"
   ]
  },
  {
   "cell_type": "code",
   "execution_count": 101,
   "id": "a0d85eb2",
   "metadata": {},
   "outputs": [
    {
     "data": {
      "text/html": [
       "<div>\n",
       "<style scoped>\n",
       "    .dataframe tbody tr th:only-of-type {\n",
       "        vertical-align: middle;\n",
       "    }\n",
       "\n",
       "    .dataframe tbody tr th {\n",
       "        vertical-align: top;\n",
       "    }\n",
       "\n",
       "    .dataframe thead th {\n",
       "        text-align: right;\n",
       "    }\n",
       "</style>\n",
       "<table border=\"1\" class=\"dataframe\">\n",
       "  <thead>\n",
       "    <tr style=\"text-align: right;\">\n",
       "      <th></th>\n",
       "      <th>cuisine</th>\n",
       "      <th>city</th>\n",
       "      <th>endorsed_by</th>\n",
       "      <th>restaurant_type</th>\n",
       "      <th>restaurant_location</th>\n",
       "      <th>restaurant_theme_mod</th>\n",
       "    </tr>\n",
       "  </thead>\n",
       "  <tbody>\n",
       "    <tr>\n",
       "      <th>count</th>\n",
       "      <td>3492</td>\n",
       "      <td>3492</td>\n",
       "      <td>3492</td>\n",
       "      <td>3492</td>\n",
       "      <td>3492</td>\n",
       "      <td>3492</td>\n",
       "    </tr>\n",
       "    <tr>\n",
       "      <th>unique</th>\n",
       "      <td>20</td>\n",
       "      <td>194</td>\n",
       "      <td>2</td>\n",
       "      <td>3</td>\n",
       "      <td>2</td>\n",
       "      <td>7</td>\n",
       "    </tr>\n",
       "    <tr>\n",
       "      <th>top</th>\n",
       "      <td>tibetan,greek</td>\n",
       "      <td>bangalore</td>\n",
       "      <td>not specific</td>\n",
       "      <td>bar</td>\n",
       "      <td>near party hub</td>\n",
       "      <td>arabian</td>\n",
       "    </tr>\n",
       "    <tr>\n",
       "      <th>freq</th>\n",
       "      <td>685</td>\n",
       "      <td>585</td>\n",
       "      <td>1960</td>\n",
       "      <td>3235</td>\n",
       "      <td>2657</td>\n",
       "      <td>1373</td>\n",
       "    </tr>\n",
       "  </tbody>\n",
       "</table>\n",
       "</div>"
      ],
      "text/plain": [
       "              cuisine       city   endorsed_by restaurant_type  \\\n",
       "count            3492       3492          3492            3492   \n",
       "unique             20        194             2               3   \n",
       "top     tibetan,greek  bangalore  not specific             bar   \n",
       "freq              685        585          1960            3235   \n",
       "\n",
       "       restaurant_location restaurant_theme_mod  \n",
       "count                 3492                 3492  \n",
       "unique                   2                    7  \n",
       "top         near party hub              arabian  \n",
       "freq                  2657                 1373  "
      ]
     },
     "execution_count": 101,
     "metadata": {},
     "output_type": "execute_result"
    }
   ],
   "source": [
    "analy_data[cat_vars].describe()"
   ]
  },
  {
   "cell_type": "code",
   "execution_count": 102,
   "id": "4bcc16e6",
   "metadata": {},
   "outputs": [],
   "source": [
    "## Interaction of the numerical variables that in the EDA showed to have a correlation with the target variable\n",
    "## and also that with the variables that after the preprocessing were created and have a correlation with the target variable\n",
    "\n",
    "# mean popularity in social media\n",
    "analy_data['mean_popularity'] = analy_data[['instagram_popularity_quotient', 'facebook_popularity_quotient']].mean(axis=1)\n",
    "\n",
    "# square of instagram and facebook popularity\n",
    "analy_data['instagram_popularity_quotient_squared'] = analy_data['instagram_popularity_quotient'] ** 2\n",
    "analy_data['facebook_popularity_quotient_squared'] = analy_data['facebook_popularity_quotient'] ** 2\n",
    "\n",
    "# ratio of instagram to facebook popularity\n",
    "analy_data['instagram_facebook_popularity_ratio'] = analy_data['instagram_popularity_quotient'] / (analy_data['facebook_popularity_quotient'] + analy_data['facebook_popularity_quotient'].min())  # Adding a small value to avoid division by zero\n",
    "\n",
    "# interaction of hygiene_rating with instagram and facebook popularity\n",
    "analy_data['hygiene_rating_instagram_popularity'] = analy_data['hygiene_rating'] * analy_data['instagram_popularity_quotient']\n",
    "analy_data['hygiene_rating_facebook_popularity'] = analy_data['hygiene_rating'] * analy_data['facebook_popularity_quotient']\n",
    "\n",
    "# amount of variables with rating superior to certain threshold\n",
    "cols_rating = [i for i in analy_data.columns if 'rating' in i and 'has' not in i]\n",
    "analy_data['amount_rating'] = analy_data[cols_rating].apply(lambda x: (x > 5).sum(), axis=1)\n",
    "analy_data['mean_ratings'] = analy_data[cols_rating].mean(axis=1)\n",
    "\n",
    "# rating variables interaction with mean popularity\n",
    "for col in cols_rating:\n",
    "    analy_data[f'{col}_mean_popularity'] = analy_data[col] * analy_data['mean_popularity']\n",
    "    num_vars += [f'{col}_mean_popularity']\n",
    "\n",
    "# restaurant endorsed by a celebrity and high popularity\n",
    "analy_data['celebrity_endorsed_high_popul'] = [1 if i else 0 for i in ((analy_data['mean_popularity']>=analy_data['mean_popularity'].mean()) & (analy_data['endorsed_by'] == 'celebrity'))]\n",
    "\n",
    "# append the variables created to the list of numerical variables\n",
    "num_vars += ['amount_rating','celebrity_endorsed_high_popul','mean_ratings','mean_popularity', 'instagram_popularity_quotient_squared', 'facebook_popularity_quotient_squared', 'instagram_facebook_popularity_ratio','hygiene_rating_instagram_popularity','hygiene_rating_facebook_popularity']\n",
    "\n",
    "## interaction of the binary variables that in the EDA showed to have a correlation with the target variable\n",
    "## also, interaction with the created variable has_value_deals_rating given that it has the second highest correlation with the target variable\n",
    "\n",
    "# liquor license obtained interaction with correlated numerical variables\n",
    "for col in correlated_num_vars:\n",
    "    analy_data[f'license_{col}'] = analy_data['liquor_license_obtained'] * analy_data[col]\n",
    "    num_vars += [f'license_{col}']\n",
    "\n",
    "# resturant_tier interaction with numerical variables\n",
    "for col in correlated_num_vars:\n",
    "    analy_data[f'tier_{col}'] = analy_data['resturant_tier'] * analy_data[col]\n",
    "    num_vars += [f'tier_{col}']\n",
    "\n",
    "# has_value_deals_rating interaction with numerical variables\n",
    "for col in correlated_num_vars:\n",
    "    analy_data[f'has_value_deals_rating_{col}'] = analy_data['has_value_deals_rating'] * analy_data[col]\n",
    "    num_vars += [f'has_value_deals_rating_{col}']"
   ]
  },
  {
   "cell_type": "code",
   "execution_count": 103,
   "id": "e090edfe",
   "metadata": {},
   "outputs": [
    {
     "name": "stdout",
     "output_type": "stream",
     "text": [
      "['cuisine_algerian,belgian', 'cuisine_algerian,korean', 'cuisine_british,belgian', 'cuisine_british,japanese', 'cuisine_chinese,salvadorian', 'cuisine_cuban,british', 'cuisine_hawaiian,latvian', 'cuisine_indian,irish', 'cuisine_irish,belgian', 'cuisine_japanese,thai', 'cuisine_nigerian,cajun', 'cuisine_peruvian,cuban', 'cuisine_polish,jewish', 'cuisine_swedish,greek', 'cuisine_tibetan,greek', 'cuisine_tibetan,italian', 'cuisine_turkish,nigerian', 'cuisine_turkish,sapnish', 'cuisine_welsh,thai', 'endorsed_by_not specific', 'restaurant_type_caffee', 'restaurant_type_gastro bar', 'restaurant_location_near party hub', 'restaurant_theme_mod_arabian', 'restaurant_theme_mod_chinese', 'restaurant_theme_mod_greek', 'restaurant_theme_mod_nature', 'restaurant_theme_mod_others', 'restaurant_theme_mod_parsi']\n"
     ]
    }
   ],
   "source": [
    "# we will remove the city variable from the categorical variables as it has too many unique values\n",
    "cat_vars.remove('city')\n",
    "\n",
    "# convert categorical variables to dummy variables\n",
    "analy_data = pd.get_dummies(analy_data, columns=cat_vars, drop_first=True)\n",
    "\n",
    "# get the dummy variables created in a list to add to binary\n",
    "dummy_columns = [col for col in analy_data.columns if any(cat in col for cat in cat_vars)]\n",
    "binary_vars += dummy_columns\n",
    "print(dummy_columns)"
   ]
  },
  {
   "cell_type": "code",
   "execution_count": 104,
   "id": "665295e0",
   "metadata": {},
   "outputs": [],
   "source": [
    "# highest cuisine effect on the target variable\n",
    "highest_cuisins = ['tibetan,greek','japanese,thai','irish,belgian']\n",
    "\n",
    "# cols to interact with the highest cuisines effect on the target variable\n",
    "# cols are selected based on their correlation with the target variable and EDA analysis, same as the  the highest cuisines\n",
    "cols_interact = correlated_num_vars + ['has_value_deals_rating','liquor_license_obtained','mean_popularity']\n",
    "\n",
    "# variable interactions with the highest cuisines effect on the target variable\n",
    "for col in highest_cuisins:\n",
    "    for col_interact in cols_interact:\n",
    "        analy_data[f'{col_interact}_cuisin_{col}'] = analy_data[col_interact] * analy_data[f'cuisine_{col}']\n",
    "        num_vars += [f'{col_interact}_cuisin_{col}']\n",
    "\n",
    "# restaurant near party hub and high popularity\n",
    "analy_data['party_hub_high_popul'] = [1 if i else 0 for i in ((analy_data['mean_popularity']>=analy_data['mean_popularity'].mean()) & (analy_data['restaurant_location_near party hub'] == 1))]\n",
    "binary_vars += ['party_hub_high_popul']"
   ]
  },
  {
   "cell_type": "code",
   "execution_count": 105,
   "id": "9ee18edd",
   "metadata": {},
   "outputs": [
    {
     "name": "stdout",
     "output_type": "stream",
     "text": [
      "Total number of variables to use in the dataset: 129\n"
     ]
    }
   ],
   "source": [
    "X_vars = num_vars + binary_vars + date_var\n",
    "if target_var in X_vars:\n",
    "    X_vars.remove(target_var)\n",
    "\n",
    "Y_var = target_var\n",
    "Y_var_test = test_target_var\n",
    "print(f\"Total number of variables to use in the dataset: {len(X_vars)}\")"
   ]
  },
  {
   "cell_type": "markdown",
   "id": "4a1c24a1",
   "metadata": {},
   "source": [
    "Todas las variables creadas anteriormente fueron diseñadas considerando tanto el análisis exploratorio de datos (EDA) como la correlación entre las distintas variables y la variable objetivo.\n",
    "\n",
    "En total, la base de datos contiene 129 variables que se emplearán para estimar el \"Annual Turnover\". Sin embargo, no se utilizarán todas, sino que se realizará una selección de características.\n",
    "\n",
    "Adicionalmente, dado que la mayoría de las variables son discretas o están definidas en el rango [0,10], y muchas ya presentan una distribución similar a la normal (como se evidenció en el EDA), no es necesario aplicar un StandardScaler para normalizarlas.\n",
    "\n",
    "Para un análisis preliminar sobre qué variables conviene utilizar, se emplearán dos métodos: primero, un modelo base de XGBoost para estimar la importancia de las variables en la explicación de la variable objetivo; segundo, PCA para obtener los componentes principales que mejor explican la varianza del conjunto de variables explicativas. Posteriormente, se compararán ambos métodos utilizando uno de los tres modelos seleccionados.\n"
   ]
  },
  {
   "cell_type": "markdown",
   "id": "553af129",
   "metadata": {},
   "source": [
    "## Modelos de ML para predecir la variable Annual Turnover\n",
    "\n",
    "En esta sección se entrenarán los modelos y se realizarán las pruebas necesarias para identificar la mejor aproximación al reto de predecir la variable objetivo.\n",
    "\n",
    "En este caso se utilizarán los siguientes modelos para las pruebas:\n",
    "\n",
    "- **XGBoost**: Se utiliza dado que es un modelo de boosting bastante poderoso para capturar relaciones no lineales entre las variables. Por cómo funciona, es muy importante validar que no se incurra en sobreajuste al momento de entrenar el modelo.\n",
    "- **Support Vector Regressor**: Es una extensión para regresión del modelo \"Support Vector Machine\", el cual también permite modelar relaciones no lineales y controlar el sobreajuste.\n",
    "- **K Nearest Neighbors**: Modelo base para comparar los resultados contra los otros dos modelos que cuentan con una complejidad mayor.\n",
    "\n",
    "Se descarta el uso de modelos de redes neuronales, ya que aunque estos pueden capturar relaciones complejas entre los datos, dado que la muestra de entrenamiento no tiene el tamaño suficiente, podrían generar overfitting.\n",
    "\n",
    "También se descarta el uso de modelos paramétricos como regresiones lineales, ya que, tal como se vio en el EDA, las variables explicativas no parecen tener una correlación lineal clara con el \"Annual Turnover\"."
   ]
  },
  {
   "cell_type": "code",
   "execution_count": 140,
   "id": "dc9a40be",
   "metadata": {},
   "outputs": [],
   "source": [
    "# import modules for the model training\n",
    "import xgboost as xgb\n",
    "from sklearn.model_selection import train_test_split\n",
    "import matplotlib.pyplot as plt\n",
    "from sklearn.decomposition import PCA\n",
    "from sklearn.preprocessing import StandardScaler\n",
    "from sklearn.model_selection import GridSearchCV, KFold\n",
    "from sklearn.metrics import r2_score,mean_squared_error, mean_absolute_error\n",
    "import numpy as np\n",
    "from sklearn.neighbors import KNeighborsRegressor\n",
    "from sklearn.svm import SVR"
   ]
  },
  {
   "cell_type": "markdown",
   "id": "a7cab3dc",
   "metadata": {},
   "source": [
    "### Enfoques para la selección de variables\n"
   ]
  },
  {
   "cell_type": "markdown",
   "id": "90a4b5e1",
   "metadata": {},
   "source": [
    "#### Selección de variables con XGBoost"
   ]
  },
  {
   "cell_type": "code",
   "execution_count": 107,
   "id": "8f7f7708",
   "metadata": {},
   "outputs": [],
   "source": [
    "# X_vars: list of feature columns, Y_var: target variable\n",
    "X = analy_data[X_vars]\n",
    "y = analy_data[Y_var]\n",
    "y_og = analy_data[Y_var_test]\n",
    "id_var = analy_data[id_vars[0]]\n",
    "\n",
    "# 80% train, 20% test\n",
    "X_train, X_test, y_train, y_test = train_test_split(X, y, test_size=0.2, random_state=42)\n",
    "y_test_og = y_og.loc[y_test.index]"
   ]
  },
  {
   "cell_type": "code",
   "execution_count": 108,
   "id": "cbd0baf5",
   "metadata": {},
   "outputs": [
    {
     "data": {
      "text/plain": [
       "<Figure size 1900x2000 with 0 Axes>"
      ]
     },
     "metadata": {},
     "output_type": "display_data"
    },
    {
     "data": {
      "image/png": "[encoded data removed]",
      "text/plain": [
       "<Figure size 640x480 with 1 Axes>"
      ]
     },
     "metadata": {},
     "output_type": "display_data"
    }
   ],
   "source": [
    "# let's train a XGBoost model to get the feature importance\n",
    "model = xgb.XGBRegressor(random_state=42,importance_type='gain')\n",
    "model.fit(X_train, y_train)\n",
    "\n",
    "# Get feature importances\n",
    "importances = model.feature_importances_\n",
    "features = X_train.columns\n",
    "\n",
    "# Create a DataFrame for better visualization\n",
    "importances_df = pd.DataFrame({'feature': features, 'importance': importances})\n",
    "importances_df = importances_df.sort_values(by='importance', ascending=False)\n",
    "\n",
    "# Plot feature importance\n",
    "plt.figure(figsize=(19, 20))\n",
    "xgb.plot_importance(model,importance_type='gain', max_num_features=40, height=0.8,grid=False,show_values=False)\n",
    "plt.title('Top 40 Feature Importances')\n",
    "plt.show()"
   ]
  },
  {
   "cell_type": "markdown",
   "id": "b9e49952",
   "metadata": {},
   "source": [
    "En este caso, dado que las variables posteriores a \"cuisine_polish_jewish\" aportan prácticamente la misma cantidad de explicabilidad al modelo, se seleccionarán aquellas cuyo \"Importance score\" sea superior al de dicha variable. Aunque muchos modelos pueden manejar el sobreajuste causado por un exceso de variables, es una mejor práctica trabajar con un conjunto acotado de variables explicativas, siguiendo el principio de parsimonia."
   ]
  },
  {
   "cell_type": "code",
   "execution_count": 109,
   "id": "6bf2bb57",
   "metadata": {},
   "outputs": [
    {
     "name": "stdout",
     "output_type": "stream",
     "text": [
      "Number of variables to use given by the XGBoost model: 34\n"
     ]
    }
   ],
   "source": [
    "## variables seleccionadas por el modelo XGBoost\n",
    "XGBoost_variables_to_use = importances_df[importances_df['importance'] > importances_df[importances_df['feature'] == 'cuisine_polish,jewish']['importance'].values[0]]['feature'].tolist()\n",
    "print(f\"Number of variables to use given by the XGBoost model: {len(XGBoost_variables_to_use)}\")"
   ]
  },
  {
   "cell_type": "code",
   "execution_count": 110,
   "id": "4fc4a66a",
   "metadata": {},
   "outputs": [],
   "source": [
    "# get the train and test sets with the selected variables\n",
    "X_train_selected = X_train[XGBoost_variables_to_use]\n",
    "X_test_selected = X_test[XGBoost_variables_to_use]"
   ]
  },
  {
   "cell_type": "markdown",
   "id": "17dbe6a8",
   "metadata": {},
   "source": [
    "#### Muestra de entrenamiento creada con PCA\n",
    "\n",
    "PCA es una técnica de aprendizaje no supervisado comúnmente utilizada para la reducción de dimensionalidad, procurando minimizar la pérdida de información relevante de las variables empleadas en el entrenamiento."
   ]
  },
  {
   "cell_type": "code",
   "execution_count": 111,
   "id": "d11a3f36",
   "metadata": {},
   "outputs": [
    {
     "data": {
      "image/png": "[encoded data removed]",
      "text/plain": [
       "<Figure size 800x500 with 1 Axes>"
      ]
     },
     "metadata": {},
     "output_type": "display_data"
    }
   ],
   "source": [
    "# PCA elbow test for Number of components selection\n",
    "# Standardize the features before PCA\n",
    "scaler = StandardScaler()\n",
    "X_train_scaled = scaler.fit_transform(X_train)\n",
    "X_test_scaled = scaler.transform(X_test)\n",
    "\n",
    "# Fit PCA\n",
    "pca = PCA()\n",
    "pca.fit(X_train_scaled)\n",
    "\n",
    "# Explained variance ratio\n",
    "explained_variance = np.cumsum(pca.explained_variance_ratio_)\n",
    "\n",
    "# Elbow plot (prueba del codo)\n",
    "plt.figure(figsize=(8, 5))\n",
    "plt.plot(range(1, len(explained_variance)+1), explained_variance, marker='o')\n",
    "plt.xlabel('Número de Componentes Principales')\n",
    "plt.ylabel('Varianza acumulada explicada')\n",
    "plt.title('Prueba del Codo para Selección de Componentes Principales')\n",
    "plt.grid(True)\n",
    "plt.show()"
   ]
  },
  {
   "cell_type": "markdown",
   "id": "8d2221c3",
   "metadata": {},
   "source": [
    "Dada la prueba del codo, se sugiere utilizar aproximadamente 50 componentes principales. Con esta cantidad se reduce a menos de la mitad el número de columnas, manteniendo casi la misma cantidad de varianza explicada que con la tabla completa."
   ]
  },
  {
   "cell_type": "code",
   "execution_count": 112,
   "id": "d4345e9b",
   "metadata": {},
   "outputs": [],
   "source": [
    "# Transform data using selected number of components\n",
    "n_components = 50  # Based on the elbow test\n",
    "pca = PCA(n_components=n_components)\n",
    "X_train_pca = pca.fit_transform(X_train_scaled)\n",
    "X_test_pca = pca.transform(X_test_scaled)"
   ]
  },
  {
   "cell_type": "markdown",
   "id": "896337a3",
   "metadata": {},
   "source": [
    "### Entrenamiento de modelos"
   ]
  },
  {
   "cell_type": "markdown",
   "id": "9f49040c",
   "metadata": {},
   "source": [
    "#### Entrenamiento del modelo XGBoost con ajuste de hiperparámetros\n",
    "\n",
    "**Modelo XGBoost con hiperparámetros ajustados y variables seleccionadas mediante feature importance**"
   ]
  },
  {
   "cell_type": "code",
   "execution_count": null,
   "id": "2368d0e9",
   "metadata": {},
   "outputs": [
    {
     "name": "stdout",
     "output_type": "stream",
     "text": [
      "Fitting 5 folds for each of 72 candidates, totalling 360 fits\n",
      "Best parameters found: {'colsample_bytree': 0.8, 'learning_rate': 0.01, 'max_depth': 5, 'n_estimators': 200, 'subsample': 0.8}\n",
      "Best CV score (neg MSE): -185781424256343.16\n"
     ]
    }
   ],
   "source": [
    "# Define base model\n",
    "xgb_model = xgb.XGBRegressor(random_state=42)\n",
    "\n",
    "# grid search used to find the best hyperparameters for the XGBoost model\n",
    "# param_grid = {\n",
    "#     'n_estimators': [100, 200],\n",
    "#     'max_depth': [3, 5, 7],\n",
    "#      'learning_rate': [0.01, 0.1, 0.2],\n",
    "#      'subsample': [0.8, 1],\n",
    "#     'colsample_bytree': [0.8, 1]\n",
    "# }\n",
    "\n",
    "# define hyperparameters for GridSearchCV\n",
    "param_grid = {\n",
    "    'n_estimators': [200],\n",
    "    'max_depth': [5],\n",
    "     'learning_rate': [0.01],\n",
    "     'subsample': [0.8],\n",
    "    'colsample_bytree': [0.8]\n",
    "}\n",
    "\n",
    "# define the cross-validation strategy\n",
    "cv = KFold(n_splits=5, shuffle=True, random_state=42)\n",
    "\n",
    "# configure the GridSearchCV\n",
    "grid_search = GridSearchCV(\n",
    "    estimator=xgb_model,\n",
    "    param_grid=param_grid,\n",
    "    scoring='neg_mean_squared_error', # we use negative MSE as scoring to maximize the score as GridSearchCV tries to maximize the metric\n",
    "    cv=cv,\n",
    "    verbose=2,\n",
    "    n_jobs=-1\n",
    ")\n",
    "\n",
    "# train the model with hyperparameter tuning\n",
    "grid_search.fit(X_train_selected, y_train)\n",
    "\n",
    "# best model and hyperparameters\n",
    "print(\"Best parameters found:\", grid_search.best_params_)\n",
    "print(\"Best CV score (neg MSE):\", grid_search.best_score_)"
   ]
  },
  {
   "cell_type": "markdown",
   "id": "c5ccfdbf",
   "metadata": {},
   "source": [
    "Vale la pena destacar que, para obtener resultados más robustos, sería recomendable probar una mayor cantidad de combinaciones de hiperparámetros, con el fin de asegurar la selección del mejor conjunto posible."
   ]
  },
  {
   "cell_type": "code",
   "execution_count": null,
   "id": "c5251d5f",
   "metadata": {},
   "outputs": [
    {
     "name": "stdout",
     "output_type": "stream",
     "text": [
      "RMSE: 14820135.583346877\n",
      "MAE: 9894824.51788269\n",
      "R²: 0.2084355354309082\n",
      "RMSE/std: 0.9611245717951388\n",
      "MAE/std: 0.6417052613489203\n"
     ]
    }
   ],
   "source": [
    "# use the best model to predict on the test set and compare with the original target variable\n",
    "best_model = grid_search.best_estimator_\n",
    "y_pred = best_model.predict(X_test_selected)\n",
    "\n",
    "# get the rmse and mae from the prediction\n",
    "print(\"RMSE:\", np.sqrt(np.mean((y_test_og - y_pred) ** 2)))\n",
    "print(\"MAE:\", np.mean(np.abs(y_test_og - y_pred)))\n",
    "r2 = r2_score(y_test_og, y_pred)\n",
    "print(\"R²:\", r2)\n",
    "\n",
    "# get the rmse and mae from the prediction in therms of standard deviation\n",
    "std_target = analy_data[Y_var].std()\n",
    "print(\"RMSE/std:\", np.sqrt(np.mean((y_test_og - y_pred) ** 2))/std_target)\n",
    "print(\"MAE/std:\", np.mean(np.abs(y_test_og - y_pred))/std_target)"
   ]
  },
  {
   "cell_type": "code",
   "execution_count": null,
   "id": "d7f7e4fe",
   "metadata": {},
   "outputs": [
    {
     "data": {
      "text/plain": [
       "Text(0, 0.5, 'Frecuencia')"
      ]
     },
     "execution_count": 88,
     "metadata": {},
     "output_type": "execute_result"
    },
    {
     "data": {
      "image/png": "[encoded data removed]",
      "text/plain": [
       "<Figure size 640x480 with 1 Axes>"
      ]
     },
     "metadata": {},
     "output_type": "display_data"
    }
   ],
   "source": [
    "# histogram of the errors\n",
    "(y_test_og - y_pred).hist(bins=50, edgecolor='black')\n",
    "plt.title('Histograma de errores en la predicción de Annual Turnover')\n",
    "plt.xlabel('Error')\n",
    "plt.ylabel('Frecuencia')"
   ]
  },
  {
   "cell_type": "markdown",
   "id": "691847c1",
   "metadata": {},
   "source": [
    "En la gráfica anterior se observa que el error está centrado en cero; sin embargo, presenta una cola más larga hacia los errores en los que la predicción subestima el valor real. Esto se debe, como se explicó previamente, a la presencia de valores atípicos en la variable objetivo."
   ]
  },
  {
   "cell_type": "markdown",
   "id": "934d2b8e",
   "metadata": {},
   "source": [
    "Se observa que el MAE es considerablemente menor que el RMSE, ya que en este caso los resultados se comparan contra la variable objetivo sin controlar los outliers. Es decir, los outliers de la variable objetivo se controlaron durante el entrenamiento para evitar sesgos en el modelo, pero la comparación se realiza contra la variable original."
   ]
  },
  {
   "cell_type": "markdown",
   "id": "2c1149dc",
   "metadata": {},
   "source": [
    "**Modelo XGBoost con hiperparámetros ajustados y PCA**"
   ]
  },
  {
   "cell_type": "code",
   "execution_count": null,
   "id": "c3b9bda6",
   "metadata": {},
   "outputs": [
    {
     "name": "stdout",
     "output_type": "stream",
     "text": [
      "Fitting 5 folds for each of 72 candidates, totalling 360 fits\n",
      "Best parameters found: {'colsample_bytree': 0.8, 'learning_rate': 0.01, 'max_depth': 7, 'n_estimators': 200, 'subsample': 0.8}\n",
      "Best CV score (neg MSE): -191222507691696.22\n"
     ]
    }
   ],
   "source": [
    "# Define base model\n",
    "xgb_model_pca = xgb.XGBRegressor(random_state=42)\n",
    "\n",
    "# define the cross-validation strategy\n",
    "cv = KFold(n_splits=5, shuffle=True, random_state=42)\n",
    "\n",
    "# define hyperparameters for GridSearchCV\n",
    "param_grid = {\n",
    "    'n_estimators': [200],\n",
    "    'max_depth': [7],\n",
    "    'learning_rate': [0.01],\n",
    "    'subsample': [0.8],\n",
    "    'colsample_bytree': [0.8]\n",
    "}\n",
    "\n",
    "# configure the GridSearchCV\n",
    "grid_search_pca = GridSearchCV(\n",
    "    estimator=xgb_model_pca,\n",
    "    param_grid=param_grid, # same hyperparameters as before for comparisson\n",
    "    scoring='neg_mean_squared_error', # we use negative MSE as scoring to maximize the score as GridSearchCV tries to maximize the metric\n",
    "    cv=cv,\n",
    "    verbose=2,\n",
    "    n_jobs=-1\n",
    ")\n",
    "\n",
    "# train the model with hyperparameter tuning\n",
    "grid_search_pca.fit(X_train_pca, y_train)\n",
    "\n",
    "# best model and hyperparameters\n",
    "print(\"Best parameters found:\", grid_search_pca.best_params_)\n",
    "print(\"Best CV score (neg MSE):\", grid_search_pca.best_score_)"
   ]
  },
  {
   "cell_type": "code",
   "execution_count": 145,
   "id": "71ac4630",
   "metadata": {},
   "outputs": [
    {
     "name": "stdout",
     "output_type": "stream",
     "text": [
      "RMSE: 14989839.764691833\n",
      "MAE: 9912772.206008583\n",
      "R²: 0.1902034878730774\n",
      "RMSE/std: 0.9721303320130342\n",
      "MAE/std: 0.6428692158868325\n"
     ]
    }
   ],
   "source": [
    "# use the best model to predict on the test set and compare with the original target variable\n",
    "best_model_pca = grid_search_pca.best_estimator_\n",
    "y_pred_xgboost_pca = best_model_pca.predict(X_test_pca)\n",
    "\n",
    "# get the rmse and mae from the prediction\n",
    "print(\"RMSE:\", np.sqrt(np.mean((y_test_og - y_pred_xgboost_pca) ** 2)))\n",
    "print(\"MAE:\", np.mean(np.abs(y_test_og - y_pred_xgboost_pca)))\n",
    "print(\"R²:\", r2_score(y_test_og, y_pred_xgboost_pca))\n",
    "\n",
    "# get the rmse and mae from the prediction in therms of standard deviation\n",
    "std_target = analy_data[Y_var].std()\n",
    "print(\"RMSE/std:\", np.sqrt(np.mean((y_test_og - y_pred_xgboost_pca) ** 2))/std_target)\n",
    "print(\"MAE/std:\", np.mean(np.abs(y_test_og - y_pred_xgboost_pca))/std_target)"
   ]
  },
  {
   "cell_type": "code",
   "execution_count": null,
   "id": "41692dab",
   "metadata": {},
   "outputs": [
    {
     "data": {
      "text/plain": [
       "Text(0, 0.5, 'Frecuencia')"
      ]
     },
     "execution_count": 92,
     "metadata": {},
     "output_type": "execute_result"
    },
    {
     "data": {
      "image/png": "[encoded data removed]",
      "text/plain": [
       "<Figure size 640x480 with 1 Axes>"
      ]
     },
     "metadata": {},
     "output_type": "display_data"
    }
   ],
   "source": [
    "# histogram of the errors\n",
    "(y_test_og - y_pred_xgboost_pca).hist(bins=50, edgecolor='black')\n",
    "plt.title('Histograma de errores en la predicción de Annual Turnover con XGboost y PCA')\n",
    "plt.xlabel('Error')\n",
    "plt.ylabel('Frecuencia')"
   ]
  },
  {
   "cell_type": "markdown",
   "id": "6bf67d03",
   "metadata": {},
   "source": [
    "En este caso, el modelo XGBoost con PCA muestra un rendimiento ligeramente inferior al obtenido mediante la selección de características basada en la importancia de variables del propio modelo XGBoost. Es importante resaltar que estas pruebas no son concluyentes respecto a la mejor estrategia de reducción de dimensionalidad, ya que no se exploró una grilla de hiperparámetros lo suficientemente amplia.\n",
    "\n",
    "Por otro lado, dado este resultado, para los otros dos modelos se utilizará el conjunto de entrenamiento que mostró el mejor desempeño, lo que además reduce el número de columnas y, por ende, el tiempo de entrenamiento. Sin embargo, esto no implica que PCA sea inferior a la aproximación basada en XGBoost en todos los casos; simplemente, para simplificar las pruebas, se opta por esta estrategia."
   ]
  },
  {
   "cell_type": "markdown",
   "id": "43445eeb",
   "metadata": {},
   "source": [
    "#### Entrenamiento del modelo KNN con ajuste de hiperparámetros"
   ]
  },
  {
   "cell_type": "code",
   "execution_count": null,
   "id": "52922b97",
   "metadata": {},
   "outputs": [
    {
     "name": "stdout",
     "output_type": "stream",
     "text": [
      "Fitting 5 folds for each of 36 candidates, totalling 180 fits\n",
      "Mejores hiperparámetros encontrados: {'n_neighbors': 80, 'p': 1, 'weights': 'distance'}\n",
      "Mejor score de validación cruzada (neg MSE): -201879005067717.4\n"
     ]
    }
   ],
   "source": [
    "# Define the KNN model\n",
    "knn = KNeighborsRegressor()\n",
    "\n",
    "# grid used to find the best hyperparameters for the KNN model\n",
    "# param_grid_knn = {\n",
    "#     'n_neighbors': [3, 5, 7, 9, 11, 13, 15, 40, 80],\n",
    "#     'weights': ['uniform', 'distance'],\n",
    "#     'p': [1, 2]  # 1: Manhattan, 2: Euclidiana\n",
    "# }\n",
    "\n",
    "# define the hyperparameters grid for KNN\n",
    "param_grid_knn = {\n",
    "    'n_neighbors': [80],\n",
    "    'weights': ['distance'],\n",
    "    'p': [1]  # 1: Manhattan, 2: Euclidiana\n",
    "}\n",
    "\n",
    "# define de cross-validation strategy\n",
    "cv_knn = KFold(n_splits=5, shuffle=True, random_state=42)\n",
    "\n",
    "# configure GridSearchCV\n",
    "grid_search_knn = GridSearchCV(\n",
    "    estimator=knn,\n",
    "    param_grid=param_grid_knn,\n",
    "    scoring='neg_mean_squared_error',\n",
    "    cv=cv_knn,\n",
    "    verbose=2,\n",
    "    n_jobs=-1\n",
    ")\n",
    "\n",
    "# train the model with the selected variables X_train_selected\n",
    "grid_search_knn.fit(X_train_selected, y_train)\n",
    "\n",
    "# Result\n",
    "print(\"Mejores hiperparámetros encontrados:\", grid_search_knn.best_params_)\n",
    "print(\"Mejor score de validación cruzada (neg MSE):\", grid_search_knn.best_score_)"
   ]
  },
  {
   "cell_type": "code",
   "execution_count": 144,
   "id": "7ff01fe8",
   "metadata": {},
   "outputs": [
    {
     "name": "stdout",
     "output_type": "stream",
     "text": [
      "RMSE: 15407072.153731434\n",
      "MAE: 10468749.876990123\n",
      "R²: 0.1444957856110558\n",
      "RMSE/std: 0.9991889441964045\n",
      "MAE/std: 0.6789258226529843\n"
     ]
    }
   ],
   "source": [
    "# Predicción en el set de prueba\n",
    "y_pred_knn = grid_search_knn.best_estimator_.predict(X_test_selected)\n",
    "\n",
    "# Evaluación\n",
    "print(\"RMSE:\", np.sqrt(mean_squared_error(y_test_og, y_pred_knn)))\n",
    "print(\"MAE:\", mean_absolute_error(y_test_og, y_pred_knn))\n",
    "print(\"R²:\", r2_score(y_test_og, y_pred_knn))\n",
    "\n",
    "# Evaluación\n",
    "print(\"RMSE/std:\", np.sqrt(mean_squared_error(y_test_og, y_pred_knn))/std_target)\n",
    "print(\"MAE/std:\", mean_absolute_error(y_test_og, y_pred_knn)/std_target)"
   ]
  },
  {
   "cell_type": "markdown",
   "id": "706b15b2",
   "metadata": {},
   "source": [
    "#### Entrenamiento del modelo SVR con ajuste de hiperparámetros"
   ]
  },
  {
   "cell_type": "code",
   "execution_count": null,
   "id": "31ada9a5",
   "metadata": {},
   "outputs": [
    {
     "name": "stdout",
     "output_type": "stream",
     "text": [
      "Fitting 5 folds for each of 64 candidates, totalling 320 fits\n",
      "Mejores hiperparámetros encontrados: {'C': 100, 'epsilon': 0.01, 'gamma': 'scale', 'kernel': 'linear'}\n",
      "Mejor score de validación cruzada (neg MSE): -193991827283175.75\n"
     ]
    }
   ],
   "source": [
    "# Definir el modelo base\n",
    "svr = SVR()\n",
    "\n",
    "# param grid used to find the best hyperparameters for the SVR model\n",
    "# param_grid_svr = {\n",
    "#     'kernel': ['rbf', 'linear'],\n",
    "#     'C': [0.1, 1, 10, 100],\n",
    "#     'epsilon': [0.01, 0.1, 0.5, 1],\n",
    "#     'gamma': ['scale', 'auto']\n",
    "# }\n",
    "\n",
    "\n",
    "# Definir la grilla de hiperparámetros\n",
    "param_grid_svr = {\n",
    "    'kernel': ['linear'],\n",
    "    'C': [100],\n",
    "    'epsilon': [0.01],\n",
    "    'gamma': ['scale']\n",
    "}\n",
    "\n",
    "# Definir la estrategia de validación cruzada\n",
    "cv_svr = KFold(n_splits=5, shuffle=True, random_state=42)\n",
    "\n",
    "# Configurar GridSearchCV\n",
    "grid_search_svr = GridSearchCV(\n",
    "    estimator=svr,\n",
    "    param_grid=param_grid_svr,\n",
    "    scoring='neg_mean_squared_error',\n",
    "    cv=cv_svr,\n",
    "    verbose=2,\n",
    "    n_jobs=-1\n",
    ")\n",
    "\n",
    "# Entrenar el modelo (puedes usar X_train_selected o X_train_pca)\n",
    "grid_search_svr.fit(X_train_selected, y_train)\n",
    "\n",
    "# Resultados\n",
    "print(\"Mejores hiperparámetros encontrados:\", grid_search_svr.best_params_)\n",
    "print(\"Mejor score de validación cruzada (neg MSE):\", grid_search_svr.best_score_)"
   ]
  },
  {
   "cell_type": "code",
   "execution_count": 143,
   "id": "f1f0bd32",
   "metadata": {},
   "outputs": [
    {
     "name": "stdout",
     "output_type": "stream",
     "text": [
      "RMSE: 15097764.57927248\n",
      "MAE: 9926871.722780157\n",
      "R²: 0.1785006604485121\n",
      "RMSE/std: 0.9791295386408367\n",
      "MAE/std: 0.6437836064430718\n"
     ]
    }
   ],
   "source": [
    "# Predicción en el set de prueba\n",
    "y_pred_svr = grid_search_svr.best_estimator_.predict(X_test_selected)\n",
    "\n",
    "# Evaluación\n",
    "print(\"RMSE:\", np.sqrt(mean_squared_error(y_test_og, y_pred_svr)))\n",
    "print(\"MAE:\", mean_absolute_error(y_test_og, y_pred_svr))\n",
    "print(\"R²:\", r2_score(y_test_og, y_pred_svr))\n",
    "print(\"RMSE/std:\", np.sqrt(mean_squared_error(y_test_og, y_pred_svr))/std_target)\n",
    "print(\"MAE/std:\", mean_absolute_error(y_test_og, y_pred_svr)/std_target)"
   ]
  },
  {
   "cell_type": "markdown",
   "id": "bbaba58f",
   "metadata": {},
   "source": [
    "### Ajuste de hiperparametros adicional para el mejor modelo\n",
    "\n",
    "Dado que se selecciono el mejor modelo base con una grilla de hiperparametros limitada, se van a enfocar ahora los recursos en seleccionar una grilla de hiperparametros mejor personalizada para el modelo con el mejor performace y asi, intentar obtener un mejor resultado"
   ]
  },
  {
   "cell_type": "code",
   "execution_count": null,
   "id": "d2701fac",
   "metadata": {},
   "outputs": [
    {
     "name": "stdout",
     "output_type": "stream",
     "text": [
      "Fitting 5 folds for each of 324 candidates, totalling 1620 fits\n",
      "Best parameters found: {'colsample_bytree': 0.5, 'learning_rate': 0.01, 'max_depth': 5, 'n_estimators': 500, 'subsample': 0.6}\n",
      "Best CV score (neg MSE): -182672852367673.06\n"
     ]
    }
   ],
   "source": [
    "# Doing further tunning for the best model\n",
    "xgb_model = xgb.XGBRegressor(random_state=42,tree_method=\"gpu_hist\")\n",
    "\n",
    "# grid search used to find the best hyperparameters for the XGBoost model\n",
    "# param_grid_best = {\n",
    "#     'n_estimators': [100, 200, 500],\n",
    "#     'max_depth': [5, 6, 7],\n",
    "#     'learning_rate': [0.05, 0.01, 0.1, 0.2],\n",
    "#     'subsample': [0.6, 0.8, 1],\n",
    "#     'colsample_bytree': [0.5, 0.8, 1]\n",
    "# }\n",
    "\n",
    "# define hyperparameters for GridSearchCV\n",
    "param_grid_best = {\n",
    "    'n_estimators': [500],\n",
    "    'max_depth': [5, 6, 7],\n",
    "    'learning_rate': [0.01],\n",
    "    'subsample': [0.6],\n",
    "    'colsample_bytree': [0.5]\n",
    "}\n",
    "\n",
    "# define the cross-validation strategy\n",
    "cv = KFold(n_splits=5, shuffle=True, random_state=42)\n",
    "\n",
    "# configure the GridSearchCV\n",
    "grid_search_best = GridSearchCV(\n",
    "    estimator=xgb_model,\n",
    "    param_grid=param_grid_best,\n",
    "    scoring='neg_mean_squared_error', # we use negative MSE as scoring to maximize the score as GridSearchCV tries to maximize the metric\n",
    "    cv=cv,\n",
    "    verbose=2,\n",
    "    n_jobs=-1\n",
    ")\n",
    "\n",
    "# train the model with hyperparameter tuning\n",
    "grid_search_best.fit(X_train_selected, y_train)\n",
    "\n",
    "# best model and hyperparameters\n",
    "print(\"Best parameters found:\", grid_search_best.best_params_)\n",
    "print(\"Best CV score (neg MSE):\", grid_search_best.best_score_)"
   ]
  },
  {
   "cell_type": "code",
   "execution_count": null,
   "id": "3b21b629",
   "metadata": {},
   "outputs": [
    {
     "ename": "NameError",
     "evalue": "name 'grid_search_best' is not defined",
     "output_type": "error",
     "traceback": [
      "\u001b[31m---------------------------------------------------------------------------\u001b[39m",
      "\u001b[31mNameError\u001b[39m                                 Traceback (most recent call last)",
      "\u001b[36mCell\u001b[39m\u001b[36m \u001b[39m\u001b[32mIn[1]\u001b[39m\u001b[32m, line 1\u001b[39m\n\u001b[32m----> \u001b[39m\u001b[32m1\u001b[39m \u001b[43mgrid_search_best\u001b[49m.best_params_\n",
      "\u001b[31mNameError\u001b[39m: name 'grid_search_best' is not defined"
     ]
    }
   ],
   "source": []
  },
  {
   "cell_type": "code",
   "execution_count": null,
   "id": "18d98cac",
   "metadata": {},
   "outputs": [],
   "source": [
    "# Predicción en el set de prueba\n",
    "y_pred_best = grid_search_best.best_estimator_.predict(X_test_selected)\n",
    "\n",
    "# Evaluación\n",
    "print(\"RMSE:\", np.sqrt(mean_squared_error(y_test_og, y_pred_best)))\n",
    "print(\"MAE:\", mean_absolute_error(y_test_og, y_pred_best))\n",
    "print(\"R²:\", r2_score(y_test_og, y_pred_best))\n",
    "print(\"RMSE/std:\", np.sqrt(mean_squared_error(y_test_og, y_pred_best))/std_target)  \n",
    "print(\"MAE/std:\", mean_absolute_error(y_test_og, y_pred_best)/std_target)"
   ]
  }
 ],
 "metadata": {
  "kernelspec": {
   "display_name": "venv (3.12.10)",
   "language": "python",
   "name": "python3"
  },
  "language_info": {
   "codemirror_mode": {
    "name": "ipython",
    "version": 3
   },
   "file_extension": ".py",
   "mimetype": "text/x-python",
   "name": "python",
   "nbconvert_exporter": "python",
   "pygments_lexer": "ipython3",
   "version": "3.12.10"
  }
 },
 "nbformat": 4,
 "nbformat_minor": 5
}
